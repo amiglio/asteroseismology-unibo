{
 "cells": [
  {
   "cell_type": "markdown",
   "metadata": {},
   "source": [
    "# asteroseismology@unibo  - computer-based exercises\n",
    "## getting started\n",
    "22 February 2024\n"
   ]
  },
  {
   "cell_type": "markdown",
   "metadata": {},
   "source": [
    "***\n",
    "### 1. Reading MESA Models (internal structure)"
   ]
  },
  {
   "cell_type": "code",
   "execution_count": null,
   "metadata": {
    "scrolled": true
   },
   "outputs": [],
   "source": [
    "import pandas as pd\n",
    "import numpy as np\n",
    "from matplotlib import pyplot as plt\n",
    "\n",
    "#this is just an example to get you started\n",
    "dir_models='~/astrosoft/MesaModels/tutorial/LOGS/'\n",
    "filename=['profile9.data']\n",
    "\n",
    "\n",
    "M1 = pd.read_csv(dir_models+filename[0], delim_whitespace = True, skiprows = 5)\n",
    "print(M1.head(2))\n"
   ]
  },
  {
   "cell_type": "code",
   "execution_count": null,
   "metadata": {
    "scrolled": true
   },
   "outputs": [],
   "source": [
    "M=M1\n",
    "list(M.columns)"
   ]
  },
  {
   "cell_type": "markdown",
   "metadata": {},
   "source": [
    "##### Simple plot: hydrogen and helium mass fraction as a function of mass ($m(r)$)"
   ]
  },
  {
   "cell_type": "code",
   "execution_count": null,
   "metadata": {},
   "outputs": [],
   "source": [
    "M=M1\n",
    "fig = plt.figure(figsize=(9, 7))\n",
    "plt.plot(M['mass'],M['x_mass_fraction_H'],label='X')\n",
    "plt.plot(M['mass'],M['y_mass_fraction_He'],label='Y')\n",
    "plt.plot(M['mass'],M['z_mass_fraction_metals'],label='Z')\n",
    "\n",
    "\n",
    "plt.xlabel('m [M$_\\odot$]')\n",
    "plt.ylabel('mass fraction')\n",
    "plt.legend()"
   ]
  },
  {
   "cell_type": "code",
   "execution_count": null,
   "metadata": {},
   "outputs": [],
   "source": [
    "M['radius'][0]"
   ]
  },
  {
   "cell_type": "markdown",
   "metadata": {},
   "source": [
    "### 2. Reading MESA Models (evolutionary sequence)\n",
    "Evolutionary tracks (`.track`) files describe how (some of) the properties of stellar models change with time.\n",
    "Most variables in the  are self-explanatory.\n",
    "Import those files in e.g.  and have a look at a few relevant diagrams as we proceed through the lectures, e.g.:\n",
    "\n",
    "1. HR diagram, identify key evolutionary phases,\n",
    "2. central temperature against central density,\n",
    "3. generate plots showing the relevant evolutionary timescales, in the various evolutionary phases,\n",
    "4. check how the convective core evolves during the MS and Helium-core-burning phase.\n",
    "\n",
    "You should be able, based on notions acquired during the module, to interpret and justify with simple physical arguments / scalings most of the properties shown\n",
    "by the models.\n",
    "\n",
    "\n",
    "\n"
   ]
  },
  {
   "cell_type": "code",
   "execution_count": null,
   "metadata": {
    "scrolled": true
   },
   "outputs": [],
   "source": [
    "filename=['history.data']\n",
    "\n",
    "M1track = pd.read_csv(dir_models+filename[0], delim_whitespace = True, skiprows = 5)\n",
    "\n",
    "pd.set_option('max_columns', 100)\n",
    "\n",
    "(M1track.head(1))"
   ]
  },
  {
   "cell_type": "code",
   "execution_count": null,
   "metadata": {},
   "outputs": [],
   "source": [
    "fig = plt.figure(figsize=(8, 6))\n",
    "\n",
    "Mtrack=M1track\n",
    "M_sub=Mtrack[(Mtrack['luminosity']< 100)]\n",
    "\n",
    "\n",
    "plt.plot(M_sub['effective_T'],M_sub['luminosity'])\n",
    "plt.gca().invert_xaxis()\n",
    "plt.yscale('log')\n",
    "#plt.xscale('log')\n",
    "plt.scatter(M_sub['effective_T'],M_sub['luminosity'],c=M_sub['center_he4'])\n",
    "\n",
    "plt.xlabel('Teff [K]')\n",
    "plt.ylabel('L [L$_\\odot$]');\n",
    "plt.grid(True)\n",
    "cbar = plt.colorbar(extend='both')\n",
    "cbar.minorticks_on()"
   ]
  },
  {
   "cell_type": "markdown",
   "metadata": {},
   "source": [
    "***\n",
    "###  3. Mean molecular weight\n",
    "\n",
    "1. Review the definition of the mean molecular weight $\\mu$ and its approximated expression $\\bar{\\mu}$: $$\\bar{\\mu}=\\left( {2X} + \\frac{3Y}{4} + \\frac{Z}{2} \\right)^{-1}$$ What is the approximated value of $\\mu$ for a gas made of hydrogen only, helium only, and when no hydrogen and helium are left?\n",
    "\n",
    "2. Plot the exact mean molecular weight (variable `mu`) as a function of `mass`.  \n",
    "\n",
    "3. Compare the exact value of $\\mu$ with that from the \n",
    "approximated expression.  Where in the star and why the difference is more pronounced? Close to the surface, or near the core? Why the exact value differs from the approximated expression?\n",
    "\n"
   ]
  }
 ],
 "metadata": {
  "kernelspec": {
   "display_name": "Python 3 (ipykernel)",
   "language": "python",
   "name": "python3"
  },
  "language_info": {
   "codemirror_mode": {
    "name": "ipython",
    "version": 3
   },
   "file_extension": ".py",
   "mimetype": "text/x-python",
   "name": "python",
   "nbconvert_exporter": "python",
   "pygments_lexer": "ipython3",
   "version": "3.8.5"
  }
 },
 "nbformat": 4,
 "nbformat_minor": 4
}
