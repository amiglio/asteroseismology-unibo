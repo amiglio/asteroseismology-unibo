{
 "cells": [
  {
   "cell_type": "markdown",
   "metadata": {},
   "source": [
    "# asteroseismology@unibo  - computer-based exercises\n",
    "## evolution on the MS\n",
    "14 March 2024\n"
   ]
  },
  {
   "cell_type": "markdown",
   "metadata": {},
   "source": [
    "***\n",
    "###  Convective cores and overshooting\n",
    "\n",
    "1. Explore the behaviour of a convective core during the evolution on the main sequence of a $2 M_\\odot$ model. Is the core shirnking or expanding in mass? why?\n",
    "\n",
    "2. Investigate the impact of convective-core overshooting on the evolution and internal structure of $2 M_\\odot$ models.\n",
    "    1. compute models including step overshooting (explore different values) and quantify the impact on the HRD, main-sequence lifetime, internal chemical composition gradients\n",
    "    2. now include a different prescription for overshooting (exponential overshooting). Investigate the effects on the HRD and internal chemical composition gradients. Observationally how could you distinguish the different mixing scenarios?\n",
    "    \n",
    "remember you can find details about how overshooting is implemented in MESA looking e.g. at `$MESA_DIR/star/defaults/controls.defaults` and relevant papers."
   ]
  },
  {
   "cell_type": "markdown",
   "metadata": {},
   "source": [
    "***\n",
    "###  Convective regions\n",
    "\n",
    "1. Consider the internal structure of the models you have computed. Using the Schwarzschild's convective instablility criterion, identify convective zones and determine which is the main reason why convection takes place in those regions. You may find it useful to plot the behaviour of the different variables defining the radiative temperature gradient ($\\nabla_{\\rm rad}$):\n",
    "$$\n",
    "\\nabla_{\\rm rad}= \\frac{3 k_{\\rm b} \\kappa \\rho L}{16 \\pi a c G m_{\\rm u}\\mu m T^3}\n",
    "$$\n",
    "\n",
    "\n",
    "2. Now focus on a 1 M$_{\\odot}$ model on the main sequence. Verify which is the actual temperature gradient ($\\nabla_{\\rm T}$) in convective regions, and discuss if, and why, some regions depart significantly from the adiabatic stratification. \n",
    "\n",
    "\n",
    "\n"
   ]
  },
  {
   "cell_type": "markdown",
   "metadata": {},
   "source": [
    "### Appendix: useful cells to read MESA files"
   ]
  },
  {
   "cell_type": "code",
   "execution_count": null,
   "metadata": {
    "scrolled": true
   },
   "outputs": [],
   "source": [
    "import pandas as pd\n",
    "import numpy as np\n",
    "from matplotlib import pyplot as plt\n",
    "\n",
    "#this is just an example to get you started\n",
    "dir_models='~/astrosoft/MesaModels/tutorial2024ov/LOGS/'\n",
    "filename=['profile50.data']\n",
    "\n",
    "M1 = pd.read_csv(dir_models+filename[0], delim_whitespace = True, skiprows = 5)\n",
    "print(M1.head(2))"
   ]
  },
  {
   "cell_type": "code",
   "execution_count": null,
   "metadata": {},
   "outputs": [],
   "source": [
    "M=M1\n",
    "\n",
    "plt.plot(M['mass'],M['x_mass_fraction_H'],label='X')\n",
    "plt.plot(M['mass'],M['y_mass_fraction_He'],label='Y')\n",
    "plt.plot(M['mass'],M['z_mass_fraction_metals'],label='Z')\n",
    "\n",
    "\n",
    "plt.xlabel('m [M$_\\odot$]')\n",
    "plt.ylabel('mass fraction')\n",
    "plt.legend()"
   ]
  },
  {
   "cell_type": "code",
   "execution_count": null,
   "metadata": {},
   "outputs": [],
   "source": [
    "filename=['history.data']\n",
    "\n",
    "M1track = pd.read_csv(dir_models+filename[0], delim_whitespace = True, skiprows = 5)\n",
    "\n",
    "(M1track.head(1))"
   ]
  },
  {
   "cell_type": "code",
   "execution_count": null,
   "metadata": {},
   "outputs": [],
   "source": [
    "fig = plt.figure(figsize=(8, 6))\n",
    "\n",
    "Mtrack=M1track\n",
    "M_sub=Mtrack[(Mtrack['luminosity']< 100)]\n",
    "\n",
    "\n",
    "plt.plot(M_sub['effective_T'],M_sub['luminosity'])\n",
    "plt.gca().invert_xaxis()\n",
    "plt.yscale('log')\n",
    "#plt.xscale('log')\n",
    "plt.scatter(M_sub['effective_T'],M_sub['luminosity'],c=M_sub['center_he4'])\n",
    "\n",
    "plt.xlabel('Teff [K]')\n",
    "plt.ylabel('L [L$_\\odot$]');\n",
    "plt.grid(True)\n",
    "cbar = plt.colorbar(extend='both')\n",
    "cbar.minorticks_on()"
   ]
  }
 ],
 "metadata": {
  "kernelspec": {
   "display_name": "Python 3 (ipykernel)",
   "language": "python",
   "name": "python3"
  },
  "language_info": {
   "codemirror_mode": {
    "name": "ipython",
    "version": 3
   },
   "file_extension": ".py",
   "mimetype": "text/x-python",
   "name": "python",
   "nbconvert_exporter": "python",
   "pygments_lexer": "ipython3",
   "version": "3.8.5"
  }
 },
 "nbformat": 4,
 "nbformat_minor": 4
}
