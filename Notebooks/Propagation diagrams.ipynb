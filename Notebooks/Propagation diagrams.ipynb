{
 "cells": [
  {
   "cell_type": "markdown",
   "metadata": {},
   "source": [
    "# asteroseismology@unibo  - computer-based exercises\n",
    "## propagation diagrams of stellar oscillation modes\n",
    "30 March 2023\n"
   ]
  },
  {
   "cell_type": "markdown",
   "metadata": {},
   "source": [
    "***\n",
    "###  Familiarise yourself with propagation diagrams, trapping of modes at a given frequency\n",
    "\n",
    "For a series of models along the evolution (e.g. PMS, MS, subgiant, RGB, core-He burning) of 2 $\\rm M_\\odot$ star (or models of any low- or intermediate-mass star!):\n",
    "\n",
    "\n",
    "1. Plot the behaviour of the Lamb and Brunt-Väisälä frequencies and identify, depending on the frequency and the angular degree, in which regions of the models pressure and gravity oscillation modes are trapped.  \n",
    "\n",
    "2. In particular, discuss the trapping of modes at a frequency:\n",
    "    - corresponding to the approximate frequency of the fundamental pulsation mode ($\\nu_{f}=\\sqrt{\\frac{GM}{R^3}}$)\n",
    "\n",
    "    - corresponding to $\\nu_{\\rm max}$, the frequency where we expect maximum excitation of solar-like oscillations: $$\\nu_{\\rm max}=3090\\, \\frac{M/{\\rm M_\\odot}}{(R/{\\rm R_\\odot})^2\\sqrt{T_{\\rm eff}/T_{\\rm eff,\\odot}}}\\mu{\\rm Hz}$$ \n",
    "Do you expect the observed spectrum (i.e. for frequencies around $\\nu_{\\rm max}$ ) to be populated by p modes, g modes or mixed modes?\n",
    "\n",
    "\n",
    "3. *Focussing on the MS models that you computed using differnt convective-core overshooting parameters, discuss if and how the Brunt-Väisälä frequency bears signature of the additional mixing processes.\n",
    "\n",
    "\n",
    "\n",
    "In the models, remember that $N$ and $S_l$ are (unless explicitely stated) angular frequencies $\\omega$ ($\\omega=2\\pi \\nu$).\n",
    "\n",
    "\n",
    "\n"
   ]
  },
  {
   "cell_type": "markdown",
   "metadata": {},
   "source": [
    "### Appendix: useful cells to read MESA files"
   ]
  },
  {
   "cell_type": "markdown",
   "metadata": {},
   "source": [
    "### HRD"
   ]
  },
  {
   "cell_type": "code",
   "execution_count": null,
   "metadata": {},
   "outputs": [],
   "source": [
    "import pandas as pd\n",
    "import numpy as np\n",
    "import math\n",
    "from matplotlib import pyplot as plt"
   ]
  },
  {
   "cell_type": "code",
   "execution_count": null,
   "metadata": {
    "scrolled": true
   },
   "outputs": [],
   "source": [
    "#this is just an example to get you started\n",
    "dir_models='/Users/amiglio/Models/tutorial_ov_eABG/LOGS/'\n",
    "dir_models='/Users/miglioa/astrosoft/MesaModels/tutorial_1MsunMS//LOGS/'\n",
    "\n",
    "filename=['history.data']\n",
    "\n",
    "M1track = pd.read_csv(dir_models+filename[0], delim_whitespace = True, skiprows = 5)\n",
    "\n",
    "pd.set_option('max_columns', 100)\n",
    "\n",
    "(M1track.head(1))"
   ]
  },
  {
   "cell_type": "code",
   "execution_count": null,
   "metadata": {
    "scrolled": false
   },
   "outputs": [],
   "source": [
    "# add this line to generate interactive plots in the notebook\n",
    "%matplotlib widget\n",
    "\n",
    "\n",
    "\n",
    "fig = plt.figure(figsize=(8, 6))\n",
    "\n",
    "Mtrack=M1track\n",
    "M_sub=Mtrack[(Mtrack['luminosity']< 50000) & (Mtrack['model_number']> 100)]\n",
    "\n",
    "\n",
    "plt.plot(M_sub['effective_T'],M_sub['luminosity'])\n",
    "plt.gca().invert_xaxis()\n",
    "plt.yscale('log')\n",
    "#plt.xscale('log')\n",
    "plt.scatter(M_sub['effective_T'],M_sub['luminosity'],c=M_sub['center_he4'])\n",
    "\n",
    "plt.xlabel('Teff [K]')\n",
    "plt.ylabel('L [L$_\\odot$]');\n",
    "plt.grid(True)\n",
    "cbar = plt.colorbar(extend='both')\n",
    "cbar.minorticks_on()\n",
    "\n",
    "plt.figure()\n",
    "plt.scatter(M_sub['center_Rho'],M_sub['max_T'],c=M_sub['luminosity'])\n",
    "plt.xscale('log')\n",
    "plt.yscale('log')\n",
    "plt.xlabel(r'$\\rho_c$')\n",
    "plt.ylabel('T$_{max}$');\n"
   ]
  },
  {
   "cell_type": "markdown",
   "metadata": {},
   "source": [
    "### Read the structure of a model"
   ]
  },
  {
   "cell_type": "code",
   "execution_count": null,
   "metadata": {
    "scrolled": true
   },
   "outputs": [],
   "source": [
    "filename=['profile48.data']\n",
    "\n",
    "M1 = pd.read_csv(dir_models+filename[0], delim_whitespace = True, skiprows = 5)\n",
    "print(M1.head(2))"
   ]
  },
  {
   "cell_type": "code",
   "execution_count": null,
   "metadata": {
    "scrolled": true
   },
   "outputs": [],
   "source": [
    "%matplotlib widget\n",
    "Rsun=6.957e10 # cm\n",
    "\n",
    "# just a plot with chemical composition \n",
    "M=M1\n",
    "plt.figure()\n",
    "plt.plot(M['radius'],M['x_mass_fraction_H'],label='X')\n",
    "plt.plot(M['radius'],M['y_mass_fraction_He'],label='Y')\n",
    "plt.xlabel('R $[M_\\odot]$?')\n",
    "plt.ylabel('mass fraction$')"
   ]
  },
  {
   "cell_type": "code",
   "execution_count": null,
   "metadata": {},
   "outputs": [],
   "source": [
    "M['radius'][0]"
   ]
  }
 ],
 "metadata": {
  "kernelspec": {
   "display_name": "Python 3",
   "language": "python",
   "name": "python3"
  },
  "language_info": {
   "codemirror_mode": {
    "name": "ipython",
    "version": 3
   },
   "file_extension": ".py",
   "mimetype": "text/x-python",
   "name": "python",
   "nbconvert_exporter": "python",
   "pygments_lexer": "ipython3",
   "version": "3.8.5"
  }
 },
 "nbformat": 4,
 "nbformat_minor": 2
}
