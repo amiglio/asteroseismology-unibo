{
 "cells": [
  {
   "cell_type": "markdown",
   "metadata": {},
   "source": [
    "# asteroseismology@unibo  - computer-based exercises\n",
    "## post main sequence phase\n",
    "27 March 2025\n"
   ]
  },
  {
   "cell_type": "markdown",
   "metadata": {},
   "source": [
    "***\n",
    "###  Effect of convective-core overshooting on the post-MS evolution of a 2 $\\rm M_\\odot$ star\n",
    "\n",
    "Explore the evolution after the central-H depletion of the $\\rm 2M_\\odot$ models that you computed (previous notebook) using different core overshooting parameters:\n",
    "\n",
    "1. Check the evolutionary timescales in the subgiant phase and relate them to the Schoenberg-Chandrasekhar limit for an isothermal helium core,\n",
    "\n",
    "2. Explore how the change in the Helium mass fraction at the end of the MS affects the properties and evolution of the core-He burning phase,\n",
    "\n",
    "3. Discuss the behaviour of the convective core during the core-He burning phase. Why do we have a convective core? Does the core increase/decrease in mass during the evolution, and why?\n",
    "\n",
    "\n",
    "\n"
   ]
  },
  {
   "cell_type": "markdown",
   "metadata": {},
   "source": [
    "### Appendix: useful cells to read MESA files"
   ]
  },
  {
   "cell_type": "code",
   "execution_count": null,
   "metadata": {
    "scrolled": true
   },
   "outputs": [],
   "source": [
    "import pandas as pd\n",
    "import numpy as np\n",
    "from matplotlib import pyplot as plt\n",
    "\n",
    "#this is just an example to get you started\n",
    "dir_models='~/astrosoft/MesaModels/tutorial/LOGS/'\n",
    "filename=['profile62.data']\n",
    "\n",
    "M1 = pd.read_csv(dir_models+filename[0], delim_whitespace = True, skiprows = 5)\n",
    "print(M1.head(2))"
   ]
  },
  {
   "cell_type": "code",
   "execution_count": null,
   "metadata": {},
   "outputs": [],
   "source": [
    "M=M1\n",
    "\n",
    "plt.plot(M['mass'],M['x_mass_fraction_H'],label='X')\n",
    "plt.plot(M['mass'],M['y_mass_fraction_He'],label='Y')\n",
    "plt.plot(M['mass'],M['z_mass_fraction_metals'],label='Z')\n",
    "\n",
    "\n",
    "plt.xlabel('m [M$_\\odot$]')\n",
    "plt.ylabel('mass fraction')\n",
    "plt.legend()"
   ]
  },
  {
   "cell_type": "code",
   "execution_count": null,
   "metadata": {},
   "outputs": [],
   "source": [
    "filename=['history.data']\n",
    "\n",
    "M1track = pd.read_csv(dir_models+filename[0], delim_whitespace = True, skiprows = 5)\n",
    "\n",
    "pd.set_option('max_columns', 100)\n",
    "\n",
    "(M1track.head(1))"
   ]
  },
  {
   "cell_type": "code",
   "execution_count": null,
   "metadata": {},
   "outputs": [],
   "source": [
    "fig = plt.figure(figsize=(8, 6))\n",
    "\n",
    "Mtrack=M1track\n",
    "M_sub=Mtrack[(Mtrack['luminosity']< 100)]\n",
    "\n",
    "\n",
    "plt.plot(M_sub['effective_T'],M_sub['luminosity'])\n",
    "plt.gca().invert_xaxis()\n",
    "plt.yscale('log')\n",
    "#plt.xscale('log')\n",
    "plt.scatter(M_sub['effective_T'],M_sub['luminosity'],c=M_sub['center_he4'])\n",
    "\n",
    "plt.xlabel('Teff [K]')\n",
    "plt.ylabel('L [L$_\\odot$]');\n",
    "plt.grid(True)\n",
    "cbar = plt.colorbar(extend='both')\n",
    "cbar.minorticks_on()"
   ]
  }
 ],
 "metadata": {
  "kernelspec": {
   "display_name": "Python 3 (ipykernel)",
   "language": "python",
   "name": "python3"
  },
  "language_info": {
   "codemirror_mode": {
    "name": "ipython",
    "version": 3
   },
   "file_extension": ".py",
   "mimetype": "text/x-python",
   "name": "python",
   "nbconvert_exporter": "python",
   "pygments_lexer": "ipython3",
   "version": "3.9.7"
  }
 },
 "nbformat": 4,
 "nbformat_minor": 2
}
