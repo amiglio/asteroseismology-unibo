{
 "cells": [
  {
   "cell_type": "markdown",
   "metadata": {},
   "source": [
    "# asteroseismology@unibo  - computer-based exercises\n",
    "## numerically computed oscillation modes\n",
    "27 April 2023\n"
   ]
  },
  {
   "cell_type": "markdown",
   "metadata": {},
   "source": [
    "### Asymptotic patterns of high-order pressure and gravity modes"
   ]
  },
  {
   "cell_type": "markdown",
   "metadata": {},
   "source": [
    "Consider two models of your choice, one on the main sequence and one the red-giant branch and:\n",
    "\n",
    "- compute a first estimate of the expected first-order asymptotic patterns for high-order p modes and high-order g modes\n",
    "- based on a propagation diagram, discuss the expected properties of modes in different frequency domains.\n",
    "\n",
    "Then, numerically compute radial and non-radial ($l=1,2$) pulsation modes in a frequency domain from $\\frac{1}{2}\\nu_{\\rm max}$ to $\\frac{3}{2}\\nu_{\\rm max}$\n",
    "\n",
    "- plot and discuss frequency or period patterns of the numerically computed modes. How do they compare with the predicted asymptotic patterns?\n",
    "- do you see any significant deviations from the expected patterns and, if you do, what is the likely origin of these departures from the expected pattern? \n",
    "- to support your description and interpretation, save and plot the radial and horizontal displacement eigenfunctions for few representative pulsation modes"
   ]
  },
  {
   "cell_type": "markdown",
   "metadata": {},
   "source": [
    "### Read pulsation modes of a main-sequence star (just an example!)"
   ]
  },
  {
   "cell_type": "code",
   "execution_count": null,
   "metadata": {},
   "outputs": [],
   "source": [
    "import pandas as pd\n",
    "import numpy as np\n",
    "import math\n",
    "from matplotlib import pyplot as plt"
   ]
  },
  {
   "cell_type": "code",
   "execution_count": null,
   "metadata": {},
   "outputs": [],
   "source": [
    "# add this line to generate interactive plots in the notebook\n",
    "%matplotlib widget\n",
    "dir_gyre='/Users/miglioa/astrosoft/MesaModels/gyre_work/'\n",
    "file_l0=dir_gyre+'summary_MS_l0.txt'\n",
    "file_l1=dir_gyre+'summary_MS_l1.txt'\n",
    "file_l2=dir_gyre+'summary_MS_l2.txt'\n",
    "\n",
    "\n",
    "s_0 = np.genfromtxt(file_l0, skip_header=5, names=True, dtype=None)\n",
    "print(s_0.dtype.names)\n",
    "s_1 = np.genfromtxt(file_l1, skip_header=5, names=True, dtype=None)\n",
    "print(s_1.dtype.names)\n",
    "s_2 = np.genfromtxt(file_l2, skip_header=5, names=True, dtype=None)\n",
    "print(s_2.dtype.names)\n",
    "nu_max=3100*(s_0['M_star'][0]/1.989200000000000E+033)*(3.8418E33/s_0['L_star'][0])**(0.125)*(6.9598E10/s_0['R_star'][0])**(1.75) #in microHz\n",
    "nu_cutoff=5300*(s_0['M_star'][0]/1.989200000000000E+033)*(3.8418E33/s_0['L_star'][0])**(0.125)*(6.9598E10/s_0['R_star'][0])**(1.75) #in microHz\n",
    "delta_nu=135.03587824856325*np.sqrt((s_0['M_star'][0]/1.989200000000000E+033)*(6.9598E10/s_0['R_star'][0])**(3)) #in microHz\n",
    "print(delta_nu)\n",
    "x_0=np.fmod(s_0['Refreq'],delta_nu)\n",
    "x_1=np.fmod(s_1['Refreq'],delta_nu)\n",
    "x_2=np.fmod(s_2['Refreq'],delta_nu)"
   ]
  },
  {
   "cell_type": "markdown",
   "metadata": {},
   "source": [
    "Plotting frequencies vs radial order"
   ]
  },
  {
   "cell_type": "code",
   "execution_count": null,
   "metadata": {},
   "outputs": [],
   "source": [
    "plt.figure()\n",
    "plt.plot(s_0['n_pg'], s_0['Refreq'], label='$\\\\ell=0$',marker='o',linestyle='none', ms=4, color='darkblue')\n",
    "plt.plot(s_1['n_pg'], s_1['Refreq'], label='$\\\\ell=1$',marker='o',linestyle='none', ms=4,color='darkred')\n",
    "plt.plot(s_2['n_pg'], s_2['Refreq'], label='$\\\\ell=2$',marker='o',linestyle='none', ms=4,color='darkgreen')\n",
    "plt.plot(s_0['n_pg'], s_0['Refreq'], label='_nolegend_', lw=1,color='tab:blue')\n",
    "plt.plot(s_1['n_pg'], s_1['Refreq'], label='_nolegend_', lw=1,color='tab:red')\n",
    "plt.plot(s_2['n_pg'], s_2['Refreq'], label='_nolegend_', lw=1,color='tab:green')\n",
    "plt.axhline(nu_max, linestyle='--', color='cyan',label=r'$\\nu_{\\rm max}$')\n",
    "plt.axhline(nu_cutoff, color='red',label=r'$\\nu_{\\rm cut}$')\n",
    "plt.ylim(np.min(s_2['Refreq']),nu_cutoff+2)\n",
    "plt.legend()\n",
    "plt.xlabel('$n_{\\\\rm pg}$')\n",
    "plt.ylabel('$\\\\nu (\\\\mu Hz$)')\n",
    "plt.savefig(\"freq.pdf\", format='pdf', bbox_inches='tight')"
   ]
  },
  {
   "cell_type": "markdown",
   "metadata": {},
   "source": [
    "Inertia"
   ]
  },
  {
   "cell_type": "code",
   "execution_count": null,
   "metadata": {},
   "outputs": [],
   "source": [
    "plt.close()\n",
    "plt.figure()\n",
    "plt.plot(s_0['Refreq'],s_0['E_norm'], label='$\\\\ell=0$',marker='o',linestyle='none', ms=4,color='darkblue')\n",
    "plt.plot(s_1['Refreq'], s_1['E_norm'], label='$\\\\ell=1$',marker='o',linestyle='none', ms=4,color='darkred')\n",
    "plt.plot(s_2['Refreq'], s_2['E_norm'], label='$\\\\ell=2$',marker='o',linestyle='none', ms=4,color='darkgreen')\n",
    "plt.plot(s_0['Refreq'],s_0['E_norm'], label='_nolegend_', lw=1,color='tab:blue')\n",
    "plt.plot(s_1['Refreq'], s_1['E_norm'], label='_nolegend_', lw=1,color='tab:red')\n",
    "plt.plot(s_2['Refreq'], s_2['E_norm'], label='_nolegend_', lw=1,color='tab:green')\n",
    "plt.axvline(nu_max, linestyle='--', color='cyan',label=r'$\\nu_{\\rm max}$')\n",
    "plt.axvline(nu_cutoff, color='red',label=r'$\\nu_{\\rm cut}$')\n",
    "plt.xlim(np.min([s_2['Refreq']]),nu_cutoff+2)\n",
    "plt.legend()\n",
    "plt.yscale('log')\n",
    "plt.ylabel('$E_{\\\\rm norm}$')\n",
    "plt.xlabel('$\\\\nu (\\\\mu Hz$)')"
   ]
  }
 ],
 "metadata": {
  "kernelspec": {
   "display_name": "Python 3",
   "language": "python",
   "name": "python3"
  },
  "language_info": {
   "codemirror_mode": {
    "name": "ipython",
    "version": 3
   },
   "file_extension": ".py",
   "mimetype": "text/x-python",
   "name": "python",
   "nbconvert_exporter": "python",
   "pygments_lexer": "ipython3",
   "version": "3.8.5"
  }
 },
 "nbformat": 4,
 "nbformat_minor": 2
}
